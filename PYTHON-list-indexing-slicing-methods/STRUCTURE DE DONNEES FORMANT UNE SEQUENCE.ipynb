{
 "cells": [
  {
   "cell_type": "markdown",
   "id": "471a14c9",
   "metadata": {},
   "source": [
    "-----------------------------STRUCTURE DE DONNEES FORMANT UNE SEQUENCE--------------------------------- \n",
    "- index system \n",
    "- access to values\n",
    "\n",
    "LISTES\n",
    "- numeric list\n",
    "- string list\n",
    "- list of lists\n",
    "- empty list\n",
    "\n",
    "TUPLE\n",
    "- create tuple\n",
    "- tuple cannot be changed : it is more fast \n",
    "\n",
    "string\n",
    "- create string\n",
    "\n",
    "indexing\n",
    "- allow access to one element\n",
    "- start by 0 \n",
    "- how to access to values \n",
    "\n",
    "Slicing\n",
    "- allow access to more one element\n",
    "- syntax of slicing\n",
    "- use positive and negative step of slicing\n",
    "- use slicing also for strings\n",
    "\n",
    "METHODES ON LISTS (the most important)\n",
    "- TABULATION to display several actions \n",
    "- append : add element in last\n",
    "- insert : precise index\n",
    "- extend : to add a list on a list\n",
    "- len : how much element in my list\n",
    "- sort() : alphabetic / sort(reverse=True anti-alphabetic)\n",
    "- count('element to count') \n",
    "- pop / remove \n",
    "\n",
    "list in control structure \n",
    "- if 'paris' in list\n",
    "- for i in list\n",
    "- in enumerate(list) : display index and value\n",
    "- in zip(l1, l2) : to access on elements of two list"
   ]
  },
  {
   "cell_type": "code",
   "execution_count": 2,
   "id": "00e3478f",
   "metadata": {},
   "outputs": [],
   "source": [
    "#numeric list\n",
    "nb_list = [1,2,3,4,5]\n",
    "#string list\n",
    "city_list = ['fes', 'tanger', 'casa', 'paris', 'marseille' ]\n",
    "#list of lists\n",
    "merg_list = (nb_list, city_list)\n",
    "#empty list\n",
    "emp_list = []"
   ]
  },
  {
   "cell_type": "code",
   "execution_count": null,
   "id": "f185f8f7",
   "metadata": {},
   "outputs": [],
   "source": [
    "#create tuple\n",
    "tuple_1 = (1,2,3,4)\n",
    "#tuple cannot be changed i, however it is more fast"
   ]
  },
  {
   "cell_type": "code",
   "execution_count": 49,
   "id": "fa119ee5",
   "metadata": {},
   "outputs": [],
   "source": [
    "#STRING\n",
    "name = \"Pola\""
   ]
  },
  {
   "cell_type": "code",
   "execution_count": 6,
   "id": "2561d9db",
   "metadata": {},
   "outputs": [
    {
     "name": "stdout",
     "output_type": "stream",
     "text": [
      "1\n",
      "marseille\n",
      "paris\n"
     ]
    }
   ],
   "source": [
    "#allow access to one element\n",
    "print(nb_list[0])\n",
    "print(city_list[-1])\n",
    "print(city_list[-2])\n",
    "#index always start by 0"
   ]
  },
  {
   "cell_type": "code",
   "execution_count": 12,
   "id": "7ead60f0",
   "metadata": {},
   "outputs": [
    {
     "name": "stdout",
     "output_type": "stream",
     "text": [
      "['fes', 'tanger', 'casa', 'paris', 'marseille']\n",
      "['marseille', 'paris', 'casa', 'tanger', 'fes']\n",
      "['fes', 'casa', 'marseille']\n",
      "['fes', 'tanger', 'casa']\n",
      "['paris', 'marseille']\n",
      "['marseille', 'casa', 'fes']\n"
     ]
    }
   ],
   "source": [
    "#syntax ====> list[debut:fin:pas] \n",
    "\n",
    "print(city_list[::]) #all element\n",
    "print(city_list[::-1]) #all lement reverse\n",
    "print(city_list[::2]) #all element, jumping one element\n",
    "print(city_list[:3]) #from 0 to 3 (not include)\n",
    "print(city_list[3:]) #from 3 to the end\n",
    "print(city_list[::-2]) #all element in reverse with jumping one element"
   ]
  },
  {
   "cell_type": "code",
   "execution_count": 50,
   "id": "7d519a8d",
   "metadata": {},
   "outputs": [
    {
     "data": {
      "text/plain": [
       "'P'"
      ]
     },
     "execution_count": 50,
     "metadata": {},
     "output_type": "execute_result"
    }
   ],
   "source": [
    "#indexing for string also\n",
    "name[0]"
   ]
  },
  {
   "cell_type": "code",
   "execution_count": 38,
   "id": "148d87de",
   "metadata": {},
   "outputs": [],
   "source": [
    "#append : add element in last\n",
    "city_list.append('lyon')\n",
    "#insert : precise index\n",
    "city_list.insert(2, 'rabat')\n",
    "#extend : to add a list on a list\n",
    "sec_list = ['tetouane', 'ifrane']\n",
    "city_list.extend(sec_list)\n",
    "#len : how much element in my list\n",
    "len(city_list)\n",
    "#sort() : alphabetic / sort(reverse=True anti-alphabetic)\n",
    "city_list.sort()\n",
    "city_list.sort(reverse=True)\n",
    "#count('element to count')\n",
    "city_list.append('fes')\n",
    "city_list.count('fes')\n",
    "#pop\n",
    "city_list.pop(-1) \n",
    "#copy\n",
    "city_list2 = city_list.copy() #create a copy "
   ]
  },
  {
   "cell_type": "code",
   "execution_count": 39,
   "id": "8e146627",
   "metadata": {},
   "outputs": [
    {
     "name": "stdout",
     "output_type": "stream",
     "text": [
      "yes\n"
     ]
    }
   ],
   "source": [
    "#if 'paris' in list\n",
    "if 'fes' in city_list:\n",
    "    print('yes')\n"
   ]
  },
  {
   "cell_type": "code",
   "execution_count": 40,
   "id": "8eff7318",
   "metadata": {},
   "outputs": [
    {
     "name": "stdout",
     "output_type": "stream",
     "text": [
      "tetouane\n",
      "tetouane\n",
      "tetouane\n",
      "tetouane\n",
      "tetouane\n",
      "tetouane\n",
      "tetouane\n",
      "tetouane\n",
      "tanger\n",
      "rabat\n",
      "rabat\n",
      "rabat\n",
      "rabat\n",
      "rabat\n",
      "rabat\n",
      "rabat\n",
      "rabat\n",
      "rabat\n",
      "paris\n",
      "marseille\n",
      "lyon\n",
      "lyon\n",
      "lyon\n",
      "lyon\n",
      "lyon\n",
      "lyon\n",
      "lyon\n",
      "lyon\n",
      "lyon\n",
      "lyon\n",
      "ifrane\n",
      "ifrane\n",
      "ifrane\n",
      "ifrane\n",
      "ifrane\n",
      "ifrane\n",
      "ifrane\n",
      "ifrane\n",
      "fes\n",
      "fes\n",
      "casa\n"
     ]
    }
   ],
   "source": [
    "#for i in list\n",
    "for city in city_list:\n",
    "    print(city)"
   ]
  },
  {
   "cell_type": "code",
   "execution_count": 41,
   "id": "464f9ea7",
   "metadata": {},
   "outputs": [
    {
     "name": "stdout",
     "output_type": "stream",
     "text": [
      "0 tetouane\n",
      "1 tetouane\n",
      "2 tetouane\n",
      "3 tetouane\n",
      "4 tetouane\n",
      "5 tetouane\n",
      "6 tetouane\n",
      "7 tetouane\n",
      "8 tanger\n",
      "9 rabat\n",
      "10 rabat\n",
      "11 rabat\n",
      "12 rabat\n",
      "13 rabat\n",
      "14 rabat\n",
      "15 rabat\n",
      "16 rabat\n",
      "17 rabat\n",
      "18 paris\n",
      "19 marseille\n",
      "20 lyon\n",
      "21 lyon\n",
      "22 lyon\n",
      "23 lyon\n",
      "24 lyon\n",
      "25 lyon\n",
      "26 lyon\n",
      "27 lyon\n",
      "28 lyon\n",
      "29 lyon\n",
      "30 ifrane\n",
      "31 ifrane\n",
      "32 ifrane\n",
      "33 ifrane\n",
      "34 ifrane\n",
      "35 ifrane\n",
      "36 ifrane\n",
      "37 ifrane\n",
      "38 fes\n",
      "39 fes\n",
      "40 casa\n"
     ]
    }
   ],
   "source": [
    "for i, j in enumerate(city_list):\n",
    "    print(i,j)"
   ]
  },
  {
   "cell_type": "code",
   "execution_count": 46,
   "id": "d52c29e7",
   "metadata": {},
   "outputs": [
    {
     "data": {
      "text/plain": [
       "40"
      ]
     },
     "execution_count": 46,
     "metadata": {},
     "output_type": "execute_result"
    }
   ],
   "source": [
    "sqr = []\n",
    "for i in range(40):\n",
    "    sqr.append(i**2)\n",
    "len(sqr)"
   ]
  },
  {
   "cell_type": "code",
   "execution_count": 47,
   "id": "60d80ab3",
   "metadata": {},
   "outputs": [
    {
     "name": "stdout",
     "output_type": "stream",
     "text": [
      "tetouane ===> 0\n",
      "tetouane ===> 1\n",
      "tetouane ===> 4\n",
      "tetouane ===> 9\n",
      "tetouane ===> 16\n",
      "tetouane ===> 25\n",
      "tetouane ===> 36\n",
      "tetouane ===> 49\n",
      "tanger ===> 64\n",
      "rabat ===> 81\n",
      "rabat ===> 100\n",
      "rabat ===> 121\n",
      "rabat ===> 144\n",
      "rabat ===> 169\n",
      "rabat ===> 196\n",
      "rabat ===> 225\n",
      "rabat ===> 256\n",
      "rabat ===> 289\n",
      "paris ===> 324\n",
      "marseille ===> 361\n",
      "lyon ===> 400\n",
      "lyon ===> 441\n",
      "lyon ===> 484\n",
      "lyon ===> 529\n",
      "lyon ===> 576\n",
      "lyon ===> 625\n",
      "lyon ===> 676\n",
      "lyon ===> 729\n",
      "lyon ===> 784\n",
      "lyon ===> 841\n",
      "ifrane ===> 900\n",
      "ifrane ===> 961\n",
      "ifrane ===> 1024\n",
      "ifrane ===> 1089\n",
      "ifrane ===> 1156\n",
      "ifrane ===> 1225\n",
      "ifrane ===> 1296\n",
      "ifrane ===> 1369\n",
      "fes ===> 1444\n",
      "fes ===> 1521\n"
     ]
    }
   ],
   "source": [
    "for i, j in zip(city_list, sqr):\n",
    "    print(i,'===>',j)"
   ]
  },
  {
   "cell_type": "code",
   "execution_count": null,
   "id": "f731d46b",
   "metadata": {},
   "outputs": [],
   "source": []
  }
 ],
 "metadata": {
  "kernelspec": {
   "display_name": "Python 3",
   "language": "python",
   "name": "python3"
  },
  "language_info": {
   "codemirror_mode": {
    "name": "ipython",
    "version": 3
   },
   "file_extension": ".py",
   "mimetype": "text/x-python",
   "name": "python",
   "nbconvert_exporter": "python",
   "pygments_lexer": "ipython3",
   "version": "3.8.8"
  }
 },
 "nbformat": 4,
 "nbformat_minor": 5
}
