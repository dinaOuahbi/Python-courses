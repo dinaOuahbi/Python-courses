{
 "cells": [
  {
   "cell_type": "markdown",
   "id": "e1e37a60",
   "metadata": {},
   "source": [
    "Ditionary : UNORDERED DATA STRUCTURE\n",
    "\n",
    "- create dictionnary key / value\n",
    "- never the same key\n",
    "- any assocition type (string with int or ...)\n",
    "- Nested : dictionnary with dictionnary inside\n",
    "- dict with numpy table as values (neuron network)\n",
    "\n",
    "METHODES\n",
    "- values()\n",
    "- keys ()\n",
    "- len (dic)\n",
    "- add a new key/value\n",
    "\n",
    "- get #chercher une valeur ou une cle qui existe ou pas\n",
    "- fromkeys #create a dict from list\n",
    "- pop #extract element from a dict, remove it from dictionnary\n",
    "\n",
    "LOOP\n",
    "- for \n",
    "- for ... dict.items()"
   ]
  },
  {
   "cell_type": "markdown",
   "id": "8b147fc6",
   "metadata": {},
   "source": [
    "### Ditionary : UNORDERED DATA STRUCTURE"
   ]
  },
  {
   "cell_type": "code",
   "execution_count": 2,
   "id": "0aa9f386",
   "metadata": {},
   "outputs": [],
   "source": [
    "client = {'name':'jack', 'sex':'male', 'age':20}\n",
    "translation = {'dog':'chien', 'cat':'chat', 'mouse':'souris'}"
   ]
  },
  {
   "cell_type": "code",
   "execution_count": 3,
   "id": "4aeaa08a",
   "metadata": {},
   "outputs": [],
   "source": [
    "#Nester \n",
    "dicto = {'dict1':client,\n",
    "        'dict2':translation}"
   ]
  },
  {
   "cell_type": "code",
   "execution_count": 4,
   "id": "1ec905f3",
   "metadata": {},
   "outputs": [
    {
     "data": {
      "text/plain": [
       "{'dict1': {'name': 'jack', 'sex': 'male', 'age': 20},\n",
       " 'dict2': {'dog': 'chien', 'cat': 'chat', 'mouse': 'souris'}}"
      ]
     },
     "execution_count": 4,
     "metadata": {},
     "output_type": "execute_result"
    }
   ],
   "source": [
    "dicto"
   ]
  },
  {
   "cell_type": "code",
   "execution_count": 5,
   "id": "1159c331",
   "metadata": {},
   "outputs": [],
   "source": [
    "import numpy as np \n"
   ]
  },
  {
   "cell_type": "code",
   "execution_count": 33,
   "id": "b60d2fba",
   "metadata": {},
   "outputs": [],
   "source": [
    "dic_np = {'wo': np.random.randn(5,3),\n",
    "         'fo': np.random.randn(5,3)}"
   ]
  },
  {
   "cell_type": "code",
   "execution_count": 11,
   "id": "934ffd50",
   "metadata": {},
   "outputs": [
    {
     "data": {
      "text/plain": [
       "{'wo': array([[ 1.31000862,  0.68321153, -0.01775536],\n",
       "        [ 0.38366916, -0.52108152,  0.46272489],\n",
       "        [-0.29137883, -0.69574675,  0.49477792],\n",
       "        [-0.9200604 , -0.58279947, -0.30190957],\n",
       "        [ 0.88485625,  0.58529797, -0.41016249]]),\n",
       " 'fo': array([[ 0.75481619,  0.83672537, -0.21200578],\n",
       "        [ 0.87467172,  0.96311604,  2.2236786 ],\n",
       "        [-0.48431791,  0.17976423, -0.04852567],\n",
       "        [-0.7994106 ,  0.78202366,  1.01418998],\n",
       "        [-0.28008206, -0.59394461, -1.12705841]])}"
      ]
     },
     "execution_count": 11,
     "metadata": {},
     "output_type": "execute_result"
    }
   ],
   "source": [
    "#display\n",
    "dic_np"
   ]
  },
  {
   "cell_type": "markdown",
   "id": "02320f6c",
   "metadata": {},
   "source": [
    "## Methods"
   ]
  },
  {
   "cell_type": "code",
   "execution_count": 28,
   "id": "b59052cd",
   "metadata": {},
   "outputs": [
    {
     "name": "stdout",
     "output_type": "stream",
     "text": [
      "dict_values(['male', 20, 'biologie'])\n",
      "dict_keys(['sex', 'age', 'field'])\n",
      "lenght ==>  3\n",
      "{'sex': 'male', 'age': 20, 'field': 'biologie'}\n",
      "no in dictionary\n",
      "{'apple': 'default_value', 'orange': 'default_value', 'kiwi': 'default_value'}\n",
      "1\n"
     ]
    }
   ],
   "source": [
    "#values()\n",
    "print(client.values())\n",
    "#keys ()\n",
    "print(client.keys())\n",
    "#len (dic)\n",
    "print('lenght ==> ',len(client))\n",
    "#add a new key/value\n",
    "client['field'] = 'biologie'\n",
    "print(client)\n",
    "#get #chercher une valeur ou une cle qui existe ou pas\n",
    "print(client.get('dd', 'no in dictionary'))\n",
    "#fromkeys #create a dict from list\n",
    "list_1 = ['apple', 'orange', 'kiwi']\n",
    "print(client.fromkeys(list_1, 'default_value'))\n",
    "#pop #extract element from a dict, remove it from dictionnary\n",
    "print(client.pop('name', 1))"
   ]
  },
  {
   "cell_type": "markdown",
   "id": "6e3d5688",
   "metadata": {},
   "source": [
    "### For loop"
   ]
  },
  {
   "cell_type": "code",
   "execution_count": 29,
   "id": "621c3c3a",
   "metadata": {},
   "outputs": [
    {
     "name": "stdout",
     "output_type": "stream",
     "text": [
      "sex\n",
      "age\n",
      "field\n"
     ]
    }
   ],
   "source": [
    "for i in client:\n",
    "    print(i)"
   ]
  },
  {
   "cell_type": "code",
   "execution_count": 30,
   "id": "90bc38f8",
   "metadata": {},
   "outputs": [
    {
     "name": "stdout",
     "output_type": "stream",
     "text": [
      "male\n",
      "20\n",
      "biologie\n"
     ]
    }
   ],
   "source": [
    "for i in client.values():\n",
    "    print(i)"
   ]
  },
  {
   "cell_type": "code",
   "execution_count": 32,
   "id": "e94d01c8",
   "metadata": {},
   "outputs": [
    {
     "name": "stdout",
     "output_type": "stream",
     "text": [
      "sex : male\n",
      "age : 20\n",
      "field : biologie\n"
     ]
    }
   ],
   "source": [
    "for i, j in client.items():\n",
    "    print(i,':',j)"
   ]
  },
  {
   "cell_type": "markdown",
   "id": "b0339329",
   "metadata": {},
   "source": [
    "___________________________________________________________________________\n",
    "LIST COMP (LC)\n",
    "- insert \"for\" loop in the list\n",
    "- shorter and more professional\n",
    "- list comp creation process is faster (calculates process time / import time)\n",
    "- also to create a Nester list which is lists inside the list\n",
    "\n",
    "DICT COMP (DC)\n",
    "- dict from a list \n",
    "- using enumerate or zip methods\n",
    "- you can add an \"if\" condition at the end\n"
   ]
  },
  {
   "cell_type": "code",
   "execution_count": 28,
   "id": "1dfe5632",
   "metadata": {},
   "outputs": [
    {
     "name": "stdout",
     "output_type": "stream",
     "text": [
      "enter a name number 1 : toto\n",
      "enter a name number 2 : titi\n",
      "enter a name number 3 : tata\n",
      "enter a name number 4 : tutu\n",
      "['toto', 'titi', 'tata', 'tutu']\n"
     ]
    }
   ],
   "source": [
    "#classic : create a list of names\n",
    "list_1 = []\n",
    "for i in range(1,5):\n",
    "    v = input(\"enter a name number {} : \".format(i))\n",
    "    list_1.append(v)\n",
    "    \n",
    "print(list_1)"
   ]
  },
  {
   "cell_type": "code",
   "execution_count": 3,
   "id": "b33202c5",
   "metadata": {},
   "outputs": [
    {
     "name": "stdout",
     "output_type": "stream",
     "text": [
      "[0, 1, 4, 9, 16, 25, 36, 49, 64, 81]\n"
     ]
    }
   ],
   "source": [
    "#liste comprehension\n",
    "list_2 = [i**2 for i in range(10)]\n",
    "print(list_2)"
   ]
  },
  {
   "cell_type": "code",
   "execution_count": 4,
   "id": "645d87cb",
   "metadata": {},
   "outputs": [
    {
     "data": {
      "text/plain": [
       "[0, 4, 16, 36, 64, 100, 144, 196, 256, 324]"
      ]
     },
     "execution_count": 4,
     "metadata": {},
     "output_type": "execute_result"
    }
   ],
   "source": [
    "#condition : sur les nombre paire\n",
    "liste_2 = [i**2 for i in range(20) if i%2==0]\n",
    "liste_2"
   ]
  },
  {
   "cell_type": "code",
   "execution_count": 5,
   "id": "a93b3c18",
   "metadata": {},
   "outputs": [],
   "source": [
    "import time"
   ]
  },
  {
   "cell_type": "code",
   "execution_count": 10,
   "id": "1aef872b",
   "metadata": {},
   "outputs": [
    {
     "name": "stdout",
     "output_type": "stream",
     "text": [
      "0.10403060913085938\n"
     ]
    }
   ],
   "source": [
    "start = time.time()\n",
    "\n",
    "list_3 = []\n",
    "for i in range(100000):\n",
    "    list_3.append(i**2)\n",
    "    \n",
    "end = time.time()\n",
    "\n",
    "print(end-start)\n",
    "\n"
   ]
  },
  {
   "cell_type": "code",
   "execution_count": 11,
   "id": "52991d0c",
   "metadata": {},
   "outputs": [
    {
     "name": "stdout",
     "output_type": "stream",
     "text": [
      "0.06399703025817871\n"
     ]
    }
   ],
   "source": [
    "start = time.time()\n",
    "\n",
    "list_3 = [i**2 for i in range(100000)]\n",
    " \n",
    "end = time.time()\n",
    "\n",
    "print(end-start)\n",
    "\n",
    "#processus plus rapide "
   ]
  },
  {
   "cell_type": "code",
   "execution_count": 13,
   "id": "d0adc03a",
   "metadata": {},
   "outputs": [
    {
     "data": {
      "text/plain": [
       "[['hello', 'hello', 'hello', 'hello'],\n",
       " ['hello', 'hello', 'hello', 'hello'],\n",
       " ['hello', 'hello', 'hello', 'hello']]"
      ]
     },
     "execution_count": 13,
     "metadata": {},
     "output_type": "execute_result"
    }
   ],
   "source": [
    "#Nester list with list comp \n",
    "nes_list = [[\"hello\" for i in range(4)] for j in range(3)]\n",
    "nes_list"
   ]
  },
  {
   "cell_type": "markdown",
   "id": "45d0dac4",
   "metadata": {},
   "source": [
    "## dict comprehension"
   ]
  },
  {
   "cell_type": "code",
   "execution_count": 14,
   "id": "63205a7c",
   "metadata": {},
   "outputs": [
    {
     "data": {
      "text/plain": [
       "['lymphocyte', 'monocyte', 'plasmocyte', 'hematocyte']"
      ]
     },
     "execution_count": 14,
     "metadata": {},
     "output_type": "execute_result"
    }
   ],
   "source": [
    "list_4 = ['lymphocyte', 'monocyte', 'plasmocyte', 'hematocyte']\n",
    "list_4"
   ]
  },
  {
   "cell_type": "code",
   "execution_count": 17,
   "id": "6505c333",
   "metadata": {},
   "outputs": [
    {
     "data": {
      "text/plain": [
       "{0: 'lymphocyte', 1: 'monocyte', 2: 'plasmocyte', 3: 'hematocyte'}"
      ]
     },
     "execution_count": 17,
     "metadata": {},
     "output_type": "execute_result"
    }
   ],
   "source": [
    "immune_cells = {k:v for k, v in enumerate(list_4)}\n",
    "immune_cells"
   ]
  },
  {
   "cell_type": "code",
   "execution_count": 19,
   "id": "ce1850e6",
   "metadata": {},
   "outputs": [
    {
     "data": {
      "text/plain": [
       "{'lymphocyte': True,\n",
       " 'monocyte': False,\n",
       " 'plasmocyte': False,\n",
       " 'hematocyte': True}"
      ]
     },
     "execution_count": 19,
     "metadata": {},
     "output_type": "execute_result"
    }
   ],
   "source": [
    "list_5 = [True, False, False, True]\n",
    "immune_cells = {k:v for k, v in zip(list_4, list_5)}\n",
    "immune_cells"
   ]
  },
  {
   "cell_type": "code",
   "execution_count": 24,
   "id": "d2f03a79",
   "metadata": {},
   "outputs": [
    {
     "data": {
      "text/plain": [
       "{'tata': 24, 'titi': 21, 'tutu': 45}"
      ]
     },
     "execution_count": 24,
     "metadata": {},
     "output_type": "execute_result"
    }
   ],
   "source": [
    "#condition if \n",
    "age = [17, 24,21,45]\n",
    "persons = ['toto', 'tata', 'titi', 'tutu']\n",
    "\n",
    "major = {k:v for k, v in zip(persons, age) if v>18}\n",
    "major\n",
    "\n",
    "#toto is a minor (not printed)"
   ]
  },
  {
   "cell_type": "code",
   "execution_count": null,
   "id": "ae2c0acc",
   "metadata": {},
   "outputs": [],
   "source": []
  }
 ],
 "metadata": {
  "kernelspec": {
   "display_name": "Python 3",
   "language": "python",
   "name": "python3"
  },
  "language_info": {
   "codemirror_mode": {
    "name": "ipython",
    "version": 3
   },
   "file_extension": ".py",
   "mimetype": "text/x-python",
   "name": "python",
   "nbconvert_exporter": "python",
   "pygments_lexer": "ipython3",
   "version": "3.8.8"
  }
 },
 "nbformat": 4,
 "nbformat_minor": 5
}
