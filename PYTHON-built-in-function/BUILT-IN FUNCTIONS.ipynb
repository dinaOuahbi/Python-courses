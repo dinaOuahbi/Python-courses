{
 "cells": [
  {
   "cell_type": "markdown",
   "id": "9826e02a",
   "metadata": {},
   "source": [
    "--------------------------BUILT-IN FUNCTIONS---------------------------------\n",
    "\n",
    "the most useful in machine learning\n",
    "- abs()\n",
    "- round()\n",
    "- max(list) / min / len / sum / all / any \n",
    "\n",
    "fonction de converion de types\n",
    "- type()\n",
    "- str(x) / int \n",
    "- tuple(list) / list \n",
    "\n",
    "interaction with user\n",
    "- input()\n",
    "- int(input(\"***\"))\n",
    "\n",
    "- format(x)\n",
    "    - espacialy with neural network \n",
    "    \n",
    "- open(file, mode)\n",
    "- use differts methods on object of open (write, read, close...)\n",
    "- with open () as f: f.read() #without closing"
   ]
  },
  {
   "cell_type": "code",
   "execution_count": 1,
   "id": "d3b598c0",
   "metadata": {},
   "outputs": [
    {
     "data": {
      "text/plain": [
       "3"
      ]
     },
     "execution_count": 1,
     "metadata": {},
     "output_type": "execute_result"
    }
   ],
   "source": [
    "# absolute value \n",
    "x= -3\n",
    "abs(x)"
   ]
  },
  {
   "cell_type": "code",
   "execution_count": 3,
   "id": "7af99541",
   "metadata": {},
   "outputs": [
    {
     "name": "stdout",
     "output_type": "stream",
     "text": [
      "3\n",
      "4\n"
     ]
    }
   ],
   "source": [
    "#most near value\n",
    "x = 3.4\n",
    "y = 3.6\n",
    "print(round(x))\n",
    "print(round(y))"
   ]
  },
  {
   "cell_type": "code",
   "execution_count": 7,
   "id": "adf1de05",
   "metadata": {},
   "outputs": [
    {
     "name": "stdout",
     "output_type": "stream",
     "text": [
      "78\n",
      "21\n",
      "7\n",
      "360\n"
     ]
    }
   ],
   "source": [
    "liste_1 = [21,34,52,43,56,78,76]\n",
    "print(max(liste_1))\n",
    "print(min(liste_1))\n",
    "print(len(liste_1))\n",
    "print(sum(liste_1))"
   ]
  },
  {
   "cell_type": "code",
   "execution_count": 9,
   "id": "e97419c0",
   "metadata": {},
   "outputs": [
    {
     "data": {
      "text/plain": [
       "True"
      ]
     },
     "execution_count": 9,
     "metadata": {},
     "output_type": "execute_result"
    }
   ],
   "source": [
    "#return true if all value = True (!=0)\n",
    "all(liste_1)"
   ]
  },
  {
   "cell_type": "code",
   "execution_count": 10,
   "id": "71d41a15",
   "metadata": {},
   "outputs": [
    {
     "data": {
      "text/plain": [
       "True"
      ]
     },
     "execution_count": 10,
     "metadata": {},
     "output_type": "execute_result"
    }
   ],
   "source": [
    "#return true if at least one value = true \n",
    "any(liste_1)"
   ]
  },
  {
   "cell_type": "markdown",
   "id": "d4b22f99",
   "metadata": {},
   "source": [
    "# conversion function"
   ]
  },
  {
   "cell_type": "code",
   "execution_count": 11,
   "id": "99948cad",
   "metadata": {},
   "outputs": [
    {
     "name": "stdout",
     "output_type": "stream",
     "text": [
      "<class 'int'> <class 'bool'> <class 'str'>\n"
     ]
    }
   ],
   "source": [
    "#check the type of variables\n",
    "x, y, z = 7, True, 'word'\n",
    "print(type(x), type(y), type(z))"
   ]
  },
  {
   "cell_type": "code",
   "execution_count": 19,
   "id": "c168cef5",
   "metadata": {},
   "outputs": [
    {
     "data": {
      "text/plain": [
       "'7'"
      ]
     },
     "execution_count": 19,
     "metadata": {},
     "output_type": "execute_result"
    }
   ],
   "source": [
    "str(x) #from int to string\n"
   ]
  },
  {
   "cell_type": "code",
   "execution_count": 20,
   "id": "4755f69b",
   "metadata": {},
   "outputs": [
    {
     "data": {
      "text/plain": [
       "'True'"
      ]
     },
     "execution_count": 20,
     "metadata": {},
     "output_type": "execute_result"
    }
   ],
   "source": [
    "str(y)"
   ]
  },
  {
   "cell_type": "code",
   "execution_count": 22,
   "id": "61117716",
   "metadata": {},
   "outputs": [
    {
     "data": {
      "text/plain": [
       "['banane', 'pomme', 'kiwi', 'orange']"
      ]
     },
     "execution_count": 22,
     "metadata": {},
     "output_type": "execute_result"
    }
   ],
   "source": [
    "dico = {'banane':40,\n",
    "       'pomme':34,\n",
    "       'kiwi':89,\n",
    "       'orange':32}\n",
    "\n",
    "list(dico.keys())"
   ]
  },
  {
   "cell_type": "code",
   "execution_count": 23,
   "id": "5565beff",
   "metadata": {},
   "outputs": [
    {
     "data": {
      "text/plain": [
       "[40, 34, 89, 32]"
      ]
     },
     "execution_count": 23,
     "metadata": {},
     "output_type": "execute_result"
    }
   ],
   "source": [
    "list(dico.values())"
   ]
  },
  {
   "cell_type": "code",
   "execution_count": 26,
   "id": "23692211",
   "metadata": {},
   "outputs": [
    {
     "name": "stdout",
     "output_type": "stream",
     "text": [
      "{'name': 'Alex', 'age': 18, 'address': 'Paris'}\n"
     ]
    }
   ],
   "source": [
    "person = dict(name = \"Alex\", age = 18, address = \"Paris\")\n",
    "print(person)"
   ]
  },
  {
   "cell_type": "code",
   "execution_count": 27,
   "id": "feacd686",
   "metadata": {},
   "outputs": [
    {
     "data": {
      "text/plain": [
       "(21, 34, 52, 43, 56, 78, 76)"
      ]
     },
     "execution_count": 27,
     "metadata": {},
     "output_type": "execute_result"
    }
   ],
   "source": [
    "tuple(liste_1)"
   ]
  },
  {
   "cell_type": "markdown",
   "id": "a6c3cbe6",
   "metadata": {},
   "source": [
    "## user interaction"
   ]
  },
  {
   "cell_type": "code",
   "execution_count": 28,
   "id": "1564c2ba",
   "metadata": {},
   "outputs": [
    {
     "name": "stdout",
     "output_type": "stream",
     "text": [
      "hi how are you\n"
     ]
    },
    {
     "data": {
      "text/plain": [
       "'hi how are you'"
      ]
     },
     "execution_count": 28,
     "metadata": {},
     "output_type": "execute_result"
    }
   ],
   "source": [
    "input()"
   ]
  },
  {
   "cell_type": "code",
   "execution_count": 30,
   "id": "921f6de3",
   "metadata": {},
   "outputs": [
    {
     "name": "stdout",
     "output_type": "stream",
     "text": [
      "Enter your name please : toto\n",
      "Enter your age please : 30\n"
     ]
    }
   ],
   "source": [
    "name = input(\"Enter your name please : \")\n",
    "age = int(input(\"Enter your age please : \"))"
   ]
  },
  {
   "cell_type": "code",
   "execution_count": 37,
   "id": "6477267f",
   "metadata": {},
   "outputs": [],
   "source": [
    "import numpy as np\n",
    "neuron = {'w0':np.random.randn(2,5),\n",
    "         'w1':np.random.randn(2,3),\n",
    "         'w2':np.random.randn(2,4)}"
   ]
  },
  {
   "cell_type": "code",
   "execution_count": 40,
   "id": "ef9dfb09",
   "metadata": {},
   "outputs": [
    {
     "name": "stdout",
     "output_type": "stream",
     "text": [
      "couche 0\n",
      "[[ 0.28199188  0.35530642  0.82120986  0.02814573 -0.29360345]\n",
      " [ 1.35333209  0.33783131 -0.18093895 -0.56942028 -1.06840272]]\n",
      "couche 1\n",
      "[[ 0.43641374  2.00641694 -1.66002601]\n",
      " [-0.83011055  1.83324304 -0.28082451]]\n",
      "couche 2\n",
      "[[-0.25307193  0.17871562  0.08774189  0.11624396]\n",
      " [-0.86391752  3.11198299 -0.32808093 -2.06385721]]\n"
     ]
    }
   ],
   "source": [
    "#accer au valeurs \n",
    "for i in range(3):\n",
    "    print(\"couche\",i)\n",
    "    print(neuron[\"w{}\".format(i)])"
   ]
  },
  {
   "cell_type": "code",
   "execution_count": null,
   "id": "d0f1971e",
   "metadata": {},
   "outputs": [],
   "source": []
  },
  {
   "cell_type": "code",
   "execution_count": 43,
   "id": "73d833e5",
   "metadata": {},
   "outputs": [],
   "source": [
    "f = open('test.txt', 'w')"
   ]
  },
  {
   "cell_type": "code",
   "execution_count": 44,
   "id": "edf7a54c",
   "metadata": {},
   "outputs": [],
   "source": [
    "f.write(\"qwertyuiopasdfghjklzxcvbnm\")\n",
    "f.close()"
   ]
  },
  {
   "cell_type": "code",
   "execution_count": 45,
   "id": "01f8abd3",
   "metadata": {},
   "outputs": [
    {
     "name": "stdout",
     "output_type": "stream",
     "text": [
      "qwertyuiopasdfghjklzxcvbnm\n"
     ]
    }
   ],
   "source": [
    "! cat test.txt"
   ]
  },
  {
   "cell_type": "code",
   "execution_count": 46,
   "id": "f4ce3f22",
   "metadata": {},
   "outputs": [
    {
     "data": {
      "text/plain": [
       "'qwertyuiopasdfghjklzxcvbnm'"
      ]
     },
     "execution_count": 46,
     "metadata": {},
     "output_type": "execute_result"
    }
   ],
   "source": [
    "f = open('test.txt', 'r')\n",
    "f.read()"
   ]
  },
  {
   "cell_type": "code",
   "execution_count": 51,
   "id": "10331bfd",
   "metadata": {},
   "outputs": [
    {
     "name": "stdout",
     "output_type": "stream",
     "text": [
      "qwertyuiopasdfghjklzxcvbnmbonjour\n"
     ]
    }
   ],
   "source": [
    "#another method\n",
    "with open(\"test.txt\", \"r\") as f:\n",
    "    print(f.read())"
   ]
  },
  {
   "cell_type": "code",
   "execution_count": 56,
   "id": "ec4c5d33",
   "metadata": {},
   "outputs": [],
   "source": [
    "with open(\"test.txt\", \"w\") as f:\n",
    "    for i in range(100):\n",
    "        f.write(\"{}^2 = {} \\n\".format(i, i**2))"
   ]
  },
  {
   "cell_type": "code",
   "execution_count": 58,
   "id": "ef35c5cc",
   "metadata": {},
   "outputs": [],
   "source": [
    "#! cat test.txt"
   ]
  },
  {
   "cell_type": "code",
   "execution_count": 68,
   "id": "dca69729",
   "metadata": {},
   "outputs": [],
   "source": [
    "#stock content of test.txt inside a liste \n",
    "f = open('test.txt', 'r')\n",
    "squares_list = f.read().splitlines()\n",
    "#readlines() another methode, but display also \\n \n",
    "f.close()"
   ]
  },
  {
   "cell_type": "code",
   "execution_count": 69,
   "id": "83e9cc57",
   "metadata": {},
   "outputs": [
    {
     "data": {
      "text/plain": [
       "['0^2 = 0 ',\n",
       " '1^2 = 1 ',\n",
       " '2^2 = 4 ',\n",
       " '3^2 = 9 ',\n",
       " '4^2 = 16 ',\n",
       " '5^2 = 25 ',\n",
       " '6^2 = 36 ',\n",
       " '7^2 = 49 ',\n",
       " '8^2 = 64 ',\n",
       " '9^2 = 81 ',\n",
       " '10^2 = 100 ',\n",
       " '11^2 = 121 ',\n",
       " '12^2 = 144 ',\n",
       " '13^2 = 169 ',\n",
       " '14^2 = 196 ',\n",
       " '15^2 = 225 ',\n",
       " '16^2 = 256 ',\n",
       " '17^2 = 289 ',\n",
       " '18^2 = 324 ',\n",
       " '19^2 = 361 ',\n",
       " '20^2 = 400 ',\n",
       " '21^2 = 441 ',\n",
       " '22^2 = 484 ',\n",
       " '23^2 = 529 ',\n",
       " '24^2 = 576 ',\n",
       " '25^2 = 625 ',\n",
       " '26^2 = 676 ',\n",
       " '27^2 = 729 ',\n",
       " '28^2 = 784 ',\n",
       " '29^2 = 841 ',\n",
       " '30^2 = 900 ',\n",
       " '31^2 = 961 ',\n",
       " '32^2 = 1024 ',\n",
       " '33^2 = 1089 ',\n",
       " '34^2 = 1156 ',\n",
       " '35^2 = 1225 ',\n",
       " '36^2 = 1296 ',\n",
       " '37^2 = 1369 ',\n",
       " '38^2 = 1444 ',\n",
       " '39^2 = 1521 ',\n",
       " '40^2 = 1600 ',\n",
       " '41^2 = 1681 ',\n",
       " '42^2 = 1764 ',\n",
       " '43^2 = 1849 ',\n",
       " '44^2 = 1936 ',\n",
       " '45^2 = 2025 ',\n",
       " '46^2 = 2116 ',\n",
       " '47^2 = 2209 ',\n",
       " '48^2 = 2304 ',\n",
       " '49^2 = 2401 ',\n",
       " '50^2 = 2500 ',\n",
       " '51^2 = 2601 ',\n",
       " '52^2 = 2704 ',\n",
       " '53^2 = 2809 ',\n",
       " '54^2 = 2916 ',\n",
       " '55^2 = 3025 ',\n",
       " '56^2 = 3136 ',\n",
       " '57^2 = 3249 ',\n",
       " '58^2 = 3364 ',\n",
       " '59^2 = 3481 ',\n",
       " '60^2 = 3600 ',\n",
       " '61^2 = 3721 ',\n",
       " '62^2 = 3844 ',\n",
       " '63^2 = 3969 ',\n",
       " '64^2 = 4096 ',\n",
       " '65^2 = 4225 ',\n",
       " '66^2 = 4356 ',\n",
       " '67^2 = 4489 ',\n",
       " '68^2 = 4624 ',\n",
       " '69^2 = 4761 ',\n",
       " '70^2 = 4900 ',\n",
       " '71^2 = 5041 ',\n",
       " '72^2 = 5184 ',\n",
       " '73^2 = 5329 ',\n",
       " '74^2 = 5476 ',\n",
       " '75^2 = 5625 ',\n",
       " '76^2 = 5776 ',\n",
       " '77^2 = 5929 ',\n",
       " '78^2 = 6084 ',\n",
       " '79^2 = 6241 ',\n",
       " '80^2 = 6400 ',\n",
       " '81^2 = 6561 ',\n",
       " '82^2 = 6724 ',\n",
       " '83^2 = 6889 ',\n",
       " '84^2 = 7056 ',\n",
       " '85^2 = 7225 ',\n",
       " '86^2 = 7396 ',\n",
       " '87^2 = 7569 ',\n",
       " '88^2 = 7744 ',\n",
       " '89^2 = 7921 ',\n",
       " '90^2 = 8100 ',\n",
       " '91^2 = 8281 ',\n",
       " '92^2 = 8464 ',\n",
       " '93^2 = 8649 ',\n",
       " '94^2 = 8836 ',\n",
       " '95^2 = 9025 ',\n",
       " '96^2 = 9216 ',\n",
       " '97^2 = 9409 ',\n",
       " '98^2 = 9604 ',\n",
       " '99^2 = 9801 ']"
      ]
     },
     "execution_count": 69,
     "metadata": {},
     "output_type": "execute_result"
    }
   ],
   "source": [
    "squares_list"
   ]
  },
  {
   "cell_type": "code",
   "execution_count": null,
   "id": "b8fa1faa",
   "metadata": {},
   "outputs": [],
   "source": []
  }
 ],
 "metadata": {
  "kernelspec": {
   "display_name": "Python 3",
   "language": "python",
   "name": "python3"
  },
  "language_info": {
   "codemirror_mode": {
    "name": "ipython",
    "version": 3
   },
   "file_extension": ".py",
   "mimetype": "text/x-python",
   "name": "python",
   "nbconvert_exporter": "python",
   "pygments_lexer": "ipython3",
   "version": "3.8.8"
  }
 },
 "nbformat": 4,
 "nbformat_minor": 5
}
