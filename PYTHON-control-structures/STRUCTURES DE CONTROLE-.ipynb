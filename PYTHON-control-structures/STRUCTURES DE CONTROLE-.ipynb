{
 "cells": [
  {
   "cell_type": "markdown",
   "id": "5a37d4bf",
   "metadata": {},
   "source": [
    "---------------STRUCTURES DE CONTROLE-------------------------------\n",
    "\n",
    "IF ELIF ELSE\n",
    "- condition avec x pos ou neg\n",
    "- condition avec operation logique (& | )\n",
    "- integrer la conditiondans une fonction\n",
    "\n",
    "BOUCLE FOR\n",
    "- avec range()\n",
    "    - range(depart, arriver, step)\n",
    "    \n",
    "BOUCLE WHILE (melange if et for)\n",
    "- create while"
   ]
  },
  {
   "cell_type": "markdown",
   "id": "d74d85eb",
   "metadata": {},
   "source": [
    "## if elif else"
   ]
  },
  {
   "cell_type": "code",
   "execution_count": 3,
   "id": "5152fd23",
   "metadata": {},
   "outputs": [
    {
     "name": "stdout",
     "output_type": "stream",
     "text": [
      "1 est positive\n"
     ]
    }
   ],
   "source": [
    "x = 1\n",
    "\n",
    "if x>0:\n",
    "    print(x, 'est positive')\n",
    "elif x==0:\n",
    "    print(x, 'est nul')\n",
    "else:\n",
    "    print(x, 'est negative')\n",
    "\n",
    "            \n"
   ]
  },
  {
   "cell_type": "code",
   "execution_count": 8,
   "id": "2f93a517",
   "metadata": {},
   "outputs": [
    {
     "name": "stdout",
     "output_type": "stream",
     "text": [
      "1  et  2 sont positive\n"
     ]
    }
   ],
   "source": [
    "x, y = 1, 2\n",
    "if (x > 0) & (y > x):\n",
    "    print(x,' et ',y,'sont positive')\n"
   ]
  },
  {
   "cell_type": "code",
   "execution_count": 9,
   "id": "e0b9f528",
   "metadata": {},
   "outputs": [],
   "source": [
    "def signe(x):\n",
    "    if x>0:\n",
    "        print(x, 'est positive')\n",
    "    elif x==0:\n",
    "        print(x, 'est nul')\n",
    "    else:\n",
    "        print(x, 'est negative')\n",
    "\n",
    "    "
   ]
  },
  {
   "cell_type": "code",
   "execution_count": 12,
   "id": "d0a5a531",
   "metadata": {},
   "outputs": [
    {
     "name": "stdout",
     "output_type": "stream",
     "text": [
      "0 ést nul\n"
     ]
    }
   ],
   "source": [
    "signe(0)"
   ]
  },
  {
   "cell_type": "markdown",
   "id": "160dbc0c",
   "metadata": {},
   "source": [
    "### BOUCLE For"
   ]
  },
  {
   "cell_type": "code",
   "execution_count": 17,
   "id": "f726565e",
   "metadata": {},
   "outputs": [
    {
     "name": "stdout",
     "output_type": "stream",
     "text": [
      "1 impair\n",
      "3 impair\n",
      "5 impair\n",
      "7 impair\n",
      "9 impair\n"
     ]
    }
   ],
   "source": [
    "for i in range(1, 10, 2):\n",
    "    print(i, 'impair')"
   ]
  },
  {
   "cell_type": "code",
   "execution_count": 23,
   "id": "df63ed16",
   "metadata": {},
   "outputs": [
    {
     "name": "stdout",
     "output_type": "stream",
     "text": [
      "10\n",
      "9\n",
      "8\n",
      "7\n",
      "6\n",
      "5\n",
      "4\n",
      "3\n",
      "2\n",
      "1\n"
     ]
    }
   ],
   "source": [
    "for i in range(10, 0, -1):\n",
    "    print(i)"
   ]
  },
  {
   "cell_type": "code",
   "execution_count": 20,
   "id": "8f349add",
   "metadata": {},
   "outputs": [
    {
     "name": "stdout",
     "output_type": "stream",
     "text": [
      "0 ést nul\n",
      "1 est positive\n",
      "2 est positive\n",
      "3 est positive\n",
      "4 est positive\n"
     ]
    }
   ],
   "source": [
    "for i in range(5):\n",
    "    signe(i)"
   ]
  },
  {
   "cell_type": "markdown",
   "id": "b3f0c154",
   "metadata": {},
   "source": [
    "## Boucle while"
   ]
  },
  {
   "cell_type": "code",
   "execution_count": 1,
   "id": "f4f3db27",
   "metadata": {},
   "outputs": [
    {
     "name": "stdout",
     "output_type": "stream",
     "text": [
      "hello\n",
      "hello\n",
      "hello\n",
      "hello\n",
      "hello\n",
      "hello\n",
      "hello\n",
      "hello\n",
      "hello\n",
      "hello\n"
     ]
    }
   ],
   "source": [
    "x = 0\n",
    "while x<10:\n",
    "    print('hello')\n",
    "    x+=1"
   ]
  },
  {
   "cell_type": "markdown",
   "id": "4f5968f2",
   "metadata": {},
   "source": [
    "\n",
    "- Écrivez un programme pour trouver un maximum entre trois nombres en utilisant une if-else ou if imbriquée."
   ]
  },
  {
   "cell_type": "code",
   "execution_count": 1,
   "id": "8ed53d06",
   "metadata": {},
   "outputs": [
    {
     "name": "stdout",
     "output_type": "stream",
     "text": [
      "entrer 3 nombre : 12\n",
      "entrer 3 nombre : 13\n",
      "entrer 3 nombre : 14\n",
      "le max est  14\n"
     ]
    }
   ],
   "source": [
    "x = 0\n",
    "liste = []\n",
    "max = 0\n",
    "while x<3:\n",
    "    n = int(input(\"entrer 3 nombre : \"))\n",
    "    liste.append(n)\n",
    "    x+=1\n",
    "if (liste[0]>liste[1]) & (liste[0]>liste[2]):\n",
    "    max = liste[0]\n",
    "elif (liste[1]>liste[0]) & (liste[1]>liste[2]):\n",
    "    max = liste[1]\n",
    "else:\n",
    "    max = liste[2]\n",
    "    \n",
    "print('le max est ',max)"
   ]
  },
  {
   "cell_type": "markdown",
   "id": "9ac4fda4",
   "metadata": {},
   "source": [
    "- écrire un programme en python pour résoudre le problème suivant: \n",
    "    - on plie une feuille de papier de 0,1 mm d'épaisseur. Combien de pliage pour que l'épaisseur dépasse la tour Eiffel. \n"
   ]
  },
  {
   "cell_type": "code",
   "execution_count": 5,
   "id": "4508d765",
   "metadata": {},
   "outputs": [
    {
     "name": "stdout",
     "output_type": "stream",
     "text": [
      "22  plies\n"
     ]
    }
   ],
   "source": [
    "ep = 0.1 # en mm\n",
    "tour = 324000 #en mm\n",
    "cpt = 0 # notre compteur de plie\n",
    "\n",
    "while ep<tour:\n",
    "    cpt+=1\n",
    "    ep*=2\n",
    "\n",
    "print(cpt,' plies')"
   ]
  },
  {
   "cell_type": "code",
   "execution_count": null,
   "id": "ccda4d08",
   "metadata": {},
   "outputs": [],
   "source": []
  }
 ],
 "metadata": {
  "kernelspec": {
   "display_name": "Python 3",
   "language": "python",
   "name": "python3"
  },
  "language_info": {
   "codemirror_mode": {
    "name": "ipython",
    "version": 3
   },
   "file_extension": ".py",
   "mimetype": "text/x-python",
   "name": "python",
   "nbconvert_exporter": "python",
   "pygments_lexer": "ipython3",
   "version": "3.8.8"
  }
 },
 "nbformat": 4,
 "nbformat_minor": 5
}
