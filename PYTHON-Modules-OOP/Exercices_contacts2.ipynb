{
  "nbformat": 4,
  "nbformat_minor": 0,
  "metadata": {
    "colab": {
      "name": "Exercices-contacts2.ipynb",
      "provenance": [],
      "collapsed_sections": [],
      "authorship_tag": "ABX9TyOxbl7kkAkGOHUBjUe1kIW5",
      "include_colab_link": true
    },
    "kernelspec": {
      "name": "python3",
      "display_name": "Python 3"
    },
    "language_info": {
      "name": "python"
    }
  },
  "cells": [
    {
      "cell_type": "markdown",
      "metadata": {
        "id": "view-in-github",
        "colab_type": "text"
      },
      "source": [
        "<a href=\"https://colab.research.google.com/github/dinaOuahbi/PYTHON-Modules-OOP/blob/main/Exercices_contacts2.ipynb\" target=\"_parent\"><img src=\"https://colab.research.google.com/assets/colab-badge.svg\" alt=\"Open In Colab\"/></a>"
      ]
    },
    {
      "cell_type": "code",
      "source": [
        "'''\n",
        "Écrivez un script qui propose à l'utilisateur plusieurs choix :\n",
        "(a) ajouter un nom : l'utilisateur entre un nom\n",
        "(s) chercher un non : l'utilisateur entre un nom. Le script affiche le nom s'il existe ou un message dans\n",
        "le cas contraire.\n",
        "(d) supprimer un nom : l'utilisateur entre un nom. Le script confirme la suppression.\n",
        "(l) afficher tous les noms d'une lettre : l'utilisateur entre une lettre. Le script affiche tous les contacts de\n",
        "cette lettre.\n",
        "(q) quitter\n",
        "Attention :\n",
        "Votre script doit être découpé en méthodes.\n",
        "Les choix sont proposés à chaque fin d'action.\n",
        "On ne peut pas ajouter deux fois le même nom.\n",
        "'''\n",
        "def add(list_name):\n",
        "  name = input('Ajouter un nom : ')\n",
        "  list_name.append(name)\n",
        "  print(list_name)\n",
        "  \n",
        "def search(list_name):\n",
        "  name = input('Entrer un nom : ')\n",
        "  if name in list_name:\n",
        "    print(name)\n",
        "  else:\n",
        "    print('This name does\\'t exist')\n",
        "\n",
        "def delete(list_name):\n",
        "  name = input('Entrer le nom que vous voudriez supprimer : ')\n",
        "  try:\n",
        "    list_name.remove(name)\n",
        "  except:\n",
        "    print('name not in the list')\n",
        "\n",
        "def display_list_name(list_name):\n",
        "  temp=[]\n",
        "  letter = input('Entrer une lettre : ')\n",
        "  for name in list_name:\n",
        "    if letter[0] == name[0]:\n",
        "      temp.append(name)\n",
        "  print(temp) \n",
        "\n",
        "def multiples_choix(list_name):\n",
        "  print(f'bienvenido dear user\\n Votre list de noms : {list_name}')\n",
        "\n",
        "  choice = input('Voici les choix existant : \\n-a = ajouter un nom\\n-s = chercher un non\\n-d = supp un nom\\n-l = afficher les nom commencant par une lettre\\n\\t')\n",
        "\n",
        "  if choice == 'a':\n",
        "    add(list_name)\n",
        "  elif choice == 's':\n",
        "    search(list_name)\n",
        "  elif choice == 'd':\n",
        "    delete(list_name)\n",
        "  elif choice== 'l':\n",
        "    display_list_name(list_name)\n",
        "  else:\n",
        "    print('votre choix n\\'existe pas')\n"
      ],
      "metadata": {
        "id": "vF8OBPuG1zlD"
      },
      "execution_count": 42,
      "outputs": []
    },
    {
      "cell_type": "code",
      "source": [
        "'''\n",
        "Créez une classe Person :\n",
        "1. Ajoutez les attributs first_name et last_name en paramètre de l'initialisateur.\n",
        "2. Surchargez la méthode __str__\n",
        "3. Créez un attribut privé age , une méthode pour le modifier et une pour y accéder. Vérifiez que l'âge\n",
        "est valide (compris entre 0 et 110).\n",
        "4. Surchargez la méthode __eq__\n",
        "5. Créez une méthode full_name qui retourne le nom complet de la personne\n",
        "\n",
        "Ajoutez les attributs email et phone à la classe Person . Ces attributs doivent être validés par des\n",
        "expressions régulières. Modifiez votre script pour demander et valider ces informations avec l'utilisateur\n",
        "\n",
        "Désormais faites en sorte de stocker vos contacts dans un fichier. Les contacts seront chargés au\n",
        "lancement du script et écrits à la fin\n",
        "'''\n",
        "\n",
        "import re\n",
        "import pickle\n",
        "class Person:\n",
        "  def __init__(self,first_name,last_name, age, email, phone) -> None:\n",
        "    self.first_name = first_name\n",
        "    self.last_name = last_name\n",
        "    self.age = age\n",
        "    self.email = email\n",
        "    self.phone = phone\n",
        "\n",
        "  def __str__(self) -> str:\n",
        "    return f'My first name is {self.first_name} and my last name is {self.last_name}'\n",
        "  \n",
        "  def set_age(self, number):\n",
        "    self.age = self.age + number\n",
        "    return float(self.age)\n",
        "  \n",
        "  def get_age(self):\n",
        "    if self.age>=0 or self.age<=110:\n",
        "      return self.age\n",
        "    else:\n",
        "      print('Error : age not between 0 and 110')\n",
        "\n",
        "  def __eq__(self, other_object) -> bool:\n",
        "    return self.first_name == other_object.first_name\n",
        "\n",
        "  def full_name(self) -> str:\n",
        "    return f'complete name : {self.first_name} {self.last_name}'\n",
        "\n",
        "  def check_mail(self):\n",
        "    regex = '^[a-z0-9]+[\\._]?[a-z0-9]+[@]\\w+[.]\\w{2,3}$'   \n",
        "    if(re.search(regex,self.email)):\n",
        "      print(\"Valid Email\")   \n",
        "    else:\n",
        "      print(\"Invalid Email\")\n",
        "\n",
        "  def check_phone_number(self):\n",
        "    pattern = re.compile(\"(0|91)?[7-9][0-9]{9}\")\n",
        "    \n",
        "    if pattern.match(self.phone):\n",
        "      print('valid')\n",
        "    else:\n",
        "      print('inalid')\n",
        "\n",
        "list_person = [Person('toto', 'thta',24, 'dina_ouahbi@yahoo.com', '0673456782'),\n",
        "               Person('tnto', 'tfta',23, 'dina_ouahbi@yahoo.fr', '0678456782'),\n",
        "               Person('tvto', 'trta',22, 'dina_ouahbi@yahoo.net', '0673846782'),\n",
        "               Person('tsto', 'twta',21, 'dina_ouahbi@yahoo.ma', '0673450182'),\n",
        "]\n",
        "\n",
        "list_name = []\n",
        "for p in list_person:\n",
        "  list_name.append(p.first_name)\n",
        "\n",
        "list_person[0].check_phone_number()\n",
        "\n",
        "f = open('users.txt', 'wb') #write binary\n",
        "for p in list_person:\n",
        "  pickle.dump(p.full_name, f)\n",
        "f.close()\n",
        "\n",
        "f = open('users.txt', 'rb') #read binary\n",
        "value = pickle.load(f)\n",
        "print(value, type(value))\n",
        "f.close()\n",
        "\n",
        "\n"
      ],
      "metadata": {
        "colab": {
          "base_uri": "https://localhost:8080/"
        },
        "id": "JF6mSEHB5X2W",
        "outputId": "d26c5f65-f501-40ac-9ea5-7091e18effac"
      },
      "execution_count": 62,
      "outputs": [
        {
          "output_type": "stream",
          "name": "stdout",
          "text": [
            "inalid\n",
            "<bound method Person.full_name of <__main__.Person object at 0x7f83a3ff3c50>> <class 'method'>\n"
          ]
        }
      ]
    },
    {
      "cell_type": "code",
      "source": [
        "'''\n",
        "Créez une classe Child qui hérite de Person . Surchargez la méthode set_age pour vérifier que\n",
        "l'âge est bien celui d'un enfant (entre 0 et 18\n",
        "'''\n",
        "\n",
        "class Child(Person): \n",
        "  def __init__(self, first_name,last_name, age, email, phone):\n",
        "   super().__init__(first_name,last_name, age, email, phone)\n",
        "\n",
        "  def set_age(self, number):\n",
        "    if self.age<=18:\n",
        "      return super().set_age(number)\n",
        "    else:\n",
        "      print('error')\n",
        "\n",
        "c = Child('toto', 'tata', 3, 'dd_df@yfh.net', '12345678')\n",
        "c.set_age(9)\n",
        "c.set_age(20)\n",
        "c.set_age(2)\n",
        "\n",
        "\n",
        "  \n",
        " \n"
      ],
      "metadata": {
        "colab": {
          "base_uri": "https://localhost:8080/"
        },
        "id": "6LfOgcBkCJBw",
        "outputId": "72eeb6da-9f9f-4f7b-9c96-13d80f3d1a5c"
      },
      "execution_count": 37,
      "outputs": [
        {
          "output_type": "stream",
          "name": "stdout",
          "text": [
            "error\n"
          ]
        }
      ]
    },
    {
      "cell_type": "code",
      "source": [
        "'''\n",
        "Créez un script qui permet à un utilisateur de renseigner une liste de nom.\n",
        "1. Stockez les noms dans un dictionnaire dont les clefs sont les lettres de l'alphabet. À la fin affichez le\n",
        "dictionnaire de manière élégante.\n",
        "2. L'utilisateur peut afficher la liste des noms pour une lettre qu'il renseigne.\n",
        "3. Vérifiez que le nom n'existe pas déjà.\n",
        "'''\n",
        "names = {}\n",
        "while True:\n",
        "  name= input('Entrez un nom : ')\n",
        "  if name == '': # si input est vide\n",
        "    break\n",
        "  letter = name[0].upper()\n",
        "  if letter in names:\n",
        "    if name in names[letter]:\n",
        "      print('Ce nom existe deja')\n",
        "    else:\n",
        "      names[letter].append(name)\n",
        "  else:\n",
        "    names[letter] = [name]\n",
        "\n",
        "display = input('Que voulez vous afficher : ').upper()\n",
        "if display in names:\n",
        "  print(f'====={display}=====')\n",
        "  for n in names[display]:\n",
        "    print(n)\n",
        "else:\n",
        "    print(f'Aucun nom avec un {display}')\n",
        "\n",
        "\n"
      ],
      "metadata": {
        "colab": {
          "base_uri": "https://localhost:8080/"
        },
        "id": "ERSgnb_XM2E0",
        "outputId": "cab5e9a3-e4a1-447b-9ecc-5c98a3dc595e"
      },
      "execution_count": 61,
      "outputs": [
        {
          "output_type": "stream",
          "name": "stdout",
          "text": [
            "Entrez un nom : dufhg\n",
            "Entrez un nom : fjgjig\n",
            "Entrez un nom : dkfg\n",
            "Entrez un nom : d\n",
            "Entrez un nom : \n",
            "Que voulez vous afficher : d\n",
            "=====D=====\n",
            "dufhg\n",
            "dkfg\n",
            "d\n"
          ]
        }
      ]
    },
    {
      "cell_type": "code",
      "source": [
        "d"
      ],
      "metadata": {
        "id": "ChFtShWgUXvt"
      },
      "execution_count": null,
      "outputs": []
    }
  ]
}