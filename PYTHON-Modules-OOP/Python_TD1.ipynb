{
  "nbformat": 4,
  "nbformat_minor": 0,
  "metadata": {
    "colab": {
      "name": "execrcice1.ipynb",
      "provenance": [],
      "collapsed_sections": [],
      "authorship_tag": "ABX9TyPDTVrRhAlbw30tr8pk4LnW",
      "include_colab_link": true
    },
    "kernelspec": {
      "name": "python3",
      "display_name": "Python 3"
    },
    "language_info": {
      "name": "python"
    }
  },
  "cells": [
    {
      "cell_type": "markdown",
      "metadata": {
        "id": "view-in-github",
        "colab_type": "text"
      },
      "source": [
        "<a href=\"https://colab.research.google.com/github/dinaOuahbi/PYTHON-Modules-OOP/blob/main/Python_TD1.ipynb\" target=\"_parent\"><img src=\"https://colab.research.google.com/assets/colab-badge.svg\" alt=\"Open In Colab\"/></a>"
      ]
    },
    {
      "cell_type": "markdown",
      "source": [
        "#1- Créez une variable name qui est une chaîne de caractères et affichez sa valeur"
      ],
      "metadata": {
        "id": "oh4e_ch_edux"
      }
    },
    {
      "cell_type": "code",
      "source": [
        "name = 'dina'\n",
        "print(\n",
        "    name\n",
        ")"
      ],
      "metadata": {
        "id": "yt_hgW20eeU4"
      },
      "execution_count": null,
      "outputs": []
    },
    {
      "cell_type": "markdown",
      "source": [
        "#2- Affichez la valeur de la variable précédente ainsi que son nombre de caractères (par exemple : La valeur est Nicolas et il y a 7 caractères)"
      ],
      "metadata": {
        "id": "NlbE8Op7eljL"
      }
    },
    {
      "cell_type": "code",
      "source": [
        "print(\n",
        "    f'Nombre de caracteres de {name} est {len(name)} '\n",
        ")"
      ],
      "metadata": {
        "id": "uqwvDeJ4eitC"
      },
      "execution_count": null,
      "outputs": []
    },
    {
      "cell_type": "markdown",
      "source": [
        "#3 Demandez à l'utilisateur son nom :\n",
        "1. Affichez \"Bonjour\" suivi du nom renseigné.\n",
        "2. Faites en sorte d'afficher \"Bonjour vous !\" quand l'utilisateur ne renseigne pas de nom.\n",
        "3. Trouvez un moyen d'afficher son nom toujours avec une majuscule à la première lettre (utilisation\n",
        "d'une fonction de str )."
      ],
      "metadata": {
        "id": "z__xP3BBfus-"
      }
    },
    {
      "cell_type": "code",
      "source": [
        "nom = input(\"Entrer votre nom svp : \")\n",
        "if len(nom)>0:\n",
        "  print('Bonjour {}'.format(nom.capitalize()))\n",
        "else:\n",
        "  print('Bonjour vous!')\n"
      ],
      "metadata": {
        "id": "AquPffrTfq8K"
      },
      "execution_count": null,
      "outputs": []
    },
    {
      "cell_type": "markdown",
      "source": [
        "#4 Demandez à l'utilisateur un nombre. Répondez à l'utilisateur si le nombre est pair ou impair."
      ],
      "metadata": {
        "id": "tWOJbn5XoeLz"
      }
    },
    {
      "cell_type": "code",
      "source": [
        "number = int(input(\"Entrer un nombre a verifier : \"))\n",
        "if number % 2 == 0:\n",
        "  print('votre nombre est paire')\n",
        "else:\n",
        "  print('Votre nombre est impaire')"
      ],
      "metadata": {
        "id": "S8jJXQotoisW"
      },
      "execution_count": null,
      "outputs": []
    },
    {
      "cell_type": "markdown",
      "source": [
        "12- Écrivez un programme qui calcule le nombre d'occurrences du caractère e dans une chaîne de\n",
        "caractères. Affichez le nombre d'occurrences ou un message s'il n'y en a pas"
      ],
      "metadata": {
        "id": "ccc_zL09iGng"
      }
    },
    {
      "cell_type": "code",
      "source": [
        "x = input('Entrez une chaine de caractere de votre choix : ')\n",
        "count = 0\n",
        "for el in x:\n",
        "  if el == 'e':\n",
        "    count+=1\n",
        "  else:\n",
        "    pass\n",
        "print(\"nb element 'e' dans le mot est : {}\".format(count))"
      ],
      "metadata": {
        "id": "AT3zPmN0g3Uc"
      },
      "execution_count": null,
      "outputs": []
    },
    {
      "cell_type": "markdown",
      "source": [
        "#5 \n",
        "1. Affichez les 20 premiers termes de la table de multiplication par 9.\n",
        "2. Affichez <- quand le résultat est pair."
      ],
      "metadata": {
        "id": "uBZI4sl9o9xk"
      }
    },
    {
      "cell_type": "code",
      "source": [
        "nb = 9\n",
        "for i in range(21):\n",
        "  res = nb*i\n",
        "  if res % 2 == 0:\n",
        "    print(f'<_{nb} X {i} = {nb*i}')\n",
        "  else:\n",
        "    print(f'{nb} X {i} = {nb*i}')"
      ],
      "metadata": {
        "id": "6hupTsJMiUm5"
      },
      "execution_count": null,
      "outputs": []
    },
    {
      "cell_type": "markdown",
      "source": [
        "#6 Écrivez un programme qui affiche une table de conversion de sommes d'argent exprimées en euros, en dollars. La progression doit se faire comme suit "
      ],
      "metadata": {
        "id": "OwnoZVr5p4JR"
      }
    },
    {
      "cell_type": "code",
      "source": [
        "for i in [i for i in range(16385) if i%2==0]:\n",
        "  do = i*1.14\n",
        "  print(f'{i} euro(s) = {do} dollar(s)')\n"
      ],
      "metadata": {
        "id": "ugadyWw_qMSD"
      },
      "execution_count": null,
      "outputs": []
    },
    {
      "cell_type": "markdown",
      "source": [
        "#7 Demandez à l'utilisateur de renseigner un mot :\n",
        "1. Affichez toutes les lettres les unes en dessous des autres.\n",
        "2. Comptez le nombre de voyelles et de consonnes et affichez le résultat"
      ],
      "metadata": {
        "id": "r4buHDU2rtaM"
      }
    },
    {
      "cell_type": "code",
      "source": [
        "mot = input('Renseigner un mot  : ')\n",
        "vo = ['a', 'e', 'i', 'o','u','y']\n",
        "countV = 0\n",
        "countC = 0\n",
        "for i in mot:\n",
        "  if (i in vo):\n",
        "    countV+=1\n",
        "  else:\n",
        "    countC+=1\n",
        "\n",
        "print('Nombre de voyelle : {} '.format(countV))\n",
        "print('Nombre de CONSONNE : {} '.format(countC))\n",
        "\n"
      ],
      "metadata": {
        "id": "64hCSwxerb8f"
      },
      "execution_count": null,
      "outputs": []
    },
    {
      "cell_type": "markdown",
      "source": [
        "1. Écrivez un programme qui demande à l'utilisateur une borne inférieure et une borne supérieure. Le\n",
        "programme additionne les chiffres à la fois multiples de 5 et de 3 et retourne la somme.\n",
        "2. Modifier le code précédent pour additionner les multiples de 3 ou de 5"
      ],
      "metadata": {
        "id": "sJQ4QiJEt1ma"
      }
    },
    {
      "cell_type": "code",
      "source": [
        "bi = int(input('Entrez une borne inferieur'))\n",
        "bs = int(input('Entrez une borne superieur'))\n",
        "\n",
        "def my_func():\n",
        "  my_num = []\n",
        "  for i in range(bi, bs+1):\n",
        "    if i%3==0 and i%5==0:\n",
        "      my_num.append(i)\n",
        "\n",
        "  sum = 0\n",
        "  for i in my_num:\n",
        "    sum+=i\n",
        "  return sum\n",
        "\n",
        "def my_func1():\n",
        "  my_num = []\n",
        "  for i in range(bi, bs+1):\n",
        "    if i%3==0 or i%5==0:\n",
        "      my_num.append(i)\n",
        "\n",
        "  sum = 0\n",
        "  for i in my_num:\n",
        "    sum+=i\n",
        "  return sum\n",
        "\n",
        "print(\n",
        "    my_func()\n",
        ")"
      ],
      "metadata": {
        "id": "3xGFsNK4vQ6e"
      },
      "execution_count": null,
      "outputs": []
    },
    {
      "cell_type": "markdown",
      "source": [
        "#8 Créez une fonction qui prend une list d'entier en paramètre et qui retourne la somme de ces entiers. /Testez votre fonction et affichez le résultat."
      ],
      "metadata": {
        "id": "5auHdtXtyWOE"
      }
    },
    {
      "cell_type": "code",
      "source": [
        "def sommer(my_list):\n",
        "  sum = 0\n",
        "  for i in my_list:\n",
        "    if isinstance(i, int) or isinstance(i, float):\n",
        "      sum+=i\n",
        "  print('ma liste : {} '.format(my_list))\n",
        "  print('ma somme : {} '.format(sum))\n",
        "\n",
        "l = [i**2 for i in range(11)]\n",
        "sommer(l)\n"
      ],
      "metadata": {
        "id": "_0Mkn2rAwmxf"
      },
      "execution_count": null,
      "outputs": []
    },
    {
      "cell_type": "markdown",
      "source": [
        "#9 Créez une fonction qui demande à l'utilisateur de renseigner des nombres, tant que celui-ci renseigne quelque chose (c'est-à-dire tant qu'il n'a pas appuyé sur ENTER sans renseigner de nombre), le nombre est ajouté à une liste. Affichez le contenu de cette list en dehors de la **fonction**"
      ],
      "metadata": {
        "id": "iv8R0deB1M8X"
      }
    },
    {
      "cell_type": "code",
      "source": [
        "\n",
        "def my_func():\n",
        "  lis = []\n",
        "  nombre = 0\n",
        "  try:\n",
        "    while isinstance(nombre, int) or isinstance(nombre, float) :\n",
        "      nombre = float(input('Renseigne un nb : '))\n",
        "      lis.append(nombre)\n",
        "  except ValueError:\n",
        "    return lis\n",
        "\n",
        "my_lis = my_func()\n",
        "print(\n",
        "    my_lis\n",
        ")"
      ],
      "metadata": {
        "id": "8_I05LoMxgKW"
      },
      "execution_count": null,
      "outputs": []
    },
    {
      "cell_type": "markdown",
      "source": [
        "#10 Utilisez les deux fonctions des deux exercices précédents pour demander à l'utilisateur des entiers et afficher leur somme."
      ],
      "metadata": {
        "id": "CSt61Yxc3sjZ"
      }
    },
    {
      "cell_type": "code",
      "source": [
        "my_list = my_func()\n",
        "sommer(my_list)"
      ],
      "metadata": {
        "id": "PZvq5GuC1Blf"
      },
      "execution_count": null,
      "outputs": []
    },
    {
      "cell_type": "markdown",
      "source": [
        "#11 Écrivez un programme qui décompose un nombre de secondes en nombre d'années, mois, jours, minutes et secondes (vous aurez besoin des opérateurs % , // )"
      ],
      "metadata": {
        "id": "2Y1vlS677aNK"
      }
    },
    {
      "cell_type": "code",
      "source": [
        "secondes = int(input('Entrez le nombre de secondes : '))\n",
        "\n",
        "# 60 sec / min\n",
        "# 60*60 sec / h\n",
        "# 60*60*24 sec / j\n",
        "# 60*60*24*30 sec / m\n",
        "# 60*60*24*30*12 sec / a\n",
        "\n",
        "\n",
        "\n"
      ],
      "metadata": {
        "id": "tg_ySGs-6HQs"
      },
      "execution_count": null,
      "outputs": []
    },
    {
      "cell_type": "markdown",
      "source": [
        "#12 Écrivez un programme qui permet de trouver l'élément le plus grand d'une liste int . Trouvez deux façons de faire cet exercice."
      ],
      "metadata": {
        "id": "kb8GyhIt-km7"
      }
    },
    {
      "cell_type": "code",
      "source": [
        "import random\n",
        "l = [random.randint(1,100) for i in range(50)]\n",
        "print(l)\n",
        "l.sort()\n",
        "l.reverse()\n",
        "print(l)\n",
        "print(\n",
        "    f'Max is : {l[0]}'\n",
        ")\n"
      ],
      "metadata": {
        "id": "P-3JA-PV9-2I"
      },
      "execution_count": null,
      "outputs": []
    },
    {
      "cell_type": "markdown",
      "source": [
        "#13 Écrivez un programme qui tri une liste de int en deux tableaux. D'un côté les pairs de l'autre les impairs.\n"
      ],
      "metadata": {
        "id": "GXEi--jkAP2r"
      }
    },
    {
      "cell_type": "code",
      "source": [
        "pair = []\n",
        "impair = []\n",
        "for i in l:\n",
        "  if i%2==0:\n",
        "    pair.append(i)\n",
        "  else:\n",
        "    impair.append(i)\n",
        "print(\n",
        "    'Pair : ',pair,'\\n',\n",
        "    'Impair : ',impair\n",
        ")"
      ],
      "metadata": {
        "id": "PhmdGMEv-9IU"
      },
      "execution_count": null,
      "outputs": []
    },
    {
      "cell_type": "markdown",
      "source": [
        "#19 Créez une fonction qui prend un entier n en paramètre et qui affiche dans la console une pyramide de hauteur n formée avec des étoiles."
      ],
      "metadata": {
        "id": "bQJn2mWqA17p"
      }
    },
    {
      "cell_type": "code",
      "source": [
        "n = 5\n",
        "space = ' '\n",
        "for i in range(n):\n",
        "  print('*'*i)\n"
      ],
      "metadata": {
        "id": "zA93jbixAqf7"
      },
      "execution_count": null,
      "outputs": []
    },
    {
      "cell_type": "markdown",
      "source": [
        "#20 Un palindrome est un mot qui s’écrit de la même manière après l’inversion des lettres. Par exemple, ‘kayak’ est un palindrome. Écrivez une fonction qui vérifie si la chaîne passée en paramètre est un palindrome"
      ],
      "metadata": {
        "id": "5weX-uQkHSKd"
      }
    },
    {
      "cell_type": "code",
      "source": [
        "mot = input('Entrer un mot a verifier : ')\n",
        "mot = list(mot)\n",
        "\n",
        "if mot == mot.reverse():\n",
        "  print('Palindrome')\n",
        "\n",
        "\n",
        "#for i in mot:\n"
      ],
      "metadata": {
        "id": "0mw2Tz7sDYK2"
      },
      "execution_count": null,
      "outputs": []
    },
    {
      "cell_type": "markdown",
      "source": [
        "#21\n",
        "1. Écrivez un script qui comporte une fonction qui calcule et retourne l'aire d'un cercle à partir de son\n",
        "rayon. pi x r^2\n",
        "2. Affichez le résultat avec deux chiffres après la virgule."
      ],
      "metadata": {
        "id": "AhrxDErAJT-t"
      }
    },
    {
      "cell_type": "code",
      "source": [
        "import math\n",
        "def area(r):\n",
        "  a = math.pi*r**2\n",
        "  return round(a, 2)\n",
        "\n",
        "print(\n",
        "    area(4)\n",
        ")\n",
        "\n"
      ],
      "metadata": {
        "id": "JNG8nh_PHXiS"
      },
      "execution_count": null,
      "outputs": []
    },
    {
      "cell_type": "markdown",
      "source": [
        "#22 Créer une méthode qui copie le contenu d'un fichier dans un autre fichier en copiant les caractères par 10."
      ],
      "metadata": {
        "id": "xW69J2f5L9NH"
      }
    },
    {
      "cell_type": "code",
      "source": [
        "! touch file1.txt\n",
        "import os\n",
        "os.listdir()\n",
        "with open('file1.txt', 'w') as f:\n",
        "  f.write('toto est parti faire dodo, mais sa mere la appeler et i sest reveiller')\n",
        "\n",
        "! cat file1.txt\n",
        "\n",
        "with open('file2.txt', '')"
      ],
      "metadata": {
        "id": "ymt4L3c4JfFs"
      },
      "execution_count": null,
      "outputs": []
    },
    {
      "cell_type": "code",
      "source": [
        "# open both files\n",
        "with open('file1.txt','r') as firstfile, open('file2.txt','a') as secondfile:\n",
        "  for line in firstfile:\n",
        "\n",
        "    secondfile.write(line)"
      ],
      "metadata": {
        "id": "8V99eoNhMRG8"
      },
      "execution_count": null,
      "outputs": []
    },
    {
      "cell_type": "code",
      "source": [
        "! cat file1.txt\n"
      ],
      "metadata": {
        "id": "md6fGM_xNjEV"
      },
      "execution_count": null,
      "outputs": []
    },
    {
      "cell_type": "code",
      "source": [
        "! cat file2.txt"
      ],
      "metadata": {
        "id": "afA4T9NINnjl"
      },
      "execution_count": null,
      "outputs": []
    },
    {
      "cell_type": "code",
      "source": [
        ""
      ],
      "metadata": {
        "id": "q4Kr_VCTNqAB"
      },
      "execution_count": null,
      "outputs": []
    }
  ]
}