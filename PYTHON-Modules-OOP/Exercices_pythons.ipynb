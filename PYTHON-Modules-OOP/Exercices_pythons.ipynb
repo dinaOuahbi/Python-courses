{
  "nbformat": 4,
  "nbformat_minor": 0,
  "metadata": {
    "colab": {
      "name": "Exercies_pythons.ipynb",
      "provenance": [],
      "authorship_tag": "ABX9TyNEMqExi9kSBFMzxOQr1ZRM",
      "include_colab_link": true
    },
    "kernelspec": {
      "name": "python3",
      "display_name": "Python 3"
    },
    "language_info": {
      "name": "python"
    }
  },
  "cells": [
    {
      "cell_type": "markdown",
      "metadata": {
        "id": "view-in-github",
        "colab_type": "text"
      },
      "source": [
        "<a href=\"https://colab.research.google.com/github/dinaOuahbi/PYTHON-Modules-OOP/blob/main/Exercices_pythons.ipynb\" target=\"_parent\"><img src=\"https://colab.research.google.com/assets/colab-badge.svg\" alt=\"Open In Colab\"/></a>"
      ]
    },
    {
      "cell_type": "markdown",
      "source": [
        "# 3\n",
        "1. Créez un tableau de str comprenant des prénoms. Demandez à l'utilisateur de renseigner un nom\n",
        "et affichez si ce nom existe dans le tableau.\n",
        "2. Faites en sorte que les majuscules et les minuscules ne changent pas le résultat"
      ],
      "metadata": {
        "id": "rSbq58Ub6-kL"
      }
    },
    {
      "cell_type": "code",
      "source": [
        "names = ['toto', 'tata', 'titi', 'tutu', 'tete']\n",
        "user_name = input('Give your name please : ')\n",
        "user_name = user_name.lower()\n",
        "result = [name for name in names if user_name==name]\n",
        "if len(result)>0:\n",
        "  print('The user name exist in the list')\n",
        "else:\n",
        "  print('User name does not exist in the list')"
      ],
      "metadata": {
        "colab": {
          "base_uri": "https://localhost:8080/"
        },
        "id": "dEwh6Uhi7DmC",
        "outputId": "52055666-a8fe-42d5-e990-b6a02da05f87"
      },
      "execution_count": 2,
      "outputs": [
        {
          "output_type": "stream",
          "name": "stdout",
          "text": [
            "Give your name please : dina\n",
            "User name does not exist in the list\n"
          ]
        }
      ]
    },
    {
      "cell_type": "markdown",
      "source": [
        "#4\n",
        "Créez un script qui permet d'entrer des noms. À chaque fois que l'utilisateur entre un nom il appuie sur la\n",
        "touche Entrer . S'il renseigne une chaîne vide le script affiche le nombre de nom et la liste des noms."
      ],
      "metadata": {
        "id": "Obe3QEIm8ygw"
      }
    },
    {
      "cell_type": "code",
      "source": [
        "name_list = []\n",
        "name = ' '\n",
        "while len(name)>0:\n",
        "  name = input('Entrer un nom : ')\n",
        "  name_list.append(name)\n",
        "name_list.pop()\n",
        "print(f'name list : {name_list}')\n",
        "print(f'name number : {len(name_list)}')\n"
      ],
      "metadata": {
        "colab": {
          "base_uri": "https://localhost:8080/"
        },
        "id": "ZuWq-i2v7jIr",
        "outputId": "ba8c08d0-d9c3-4165-8b0e-74a0c5ade607"
      },
      "execution_count": 3,
      "outputs": [
        {
          "output_type": "stream",
          "name": "stdout",
          "text": [
            "Entrer un nom : nno\n",
            "Entrer un nom : dhfh\n",
            "Entrer un nom : \n",
            "name list : ['nno', 'dhfh']\n",
            "name number : 2\n"
          ]
        }
      ]
    },
    {
      "cell_type": "markdown",
      "source": [
        "#5\n",
        "Créez un tableau de mots. Demandez à l'utilisateur de renseigner une lettre.\n",
        "1. Affichez tous les mots commençant par cette lettre. Affichez un message si aucun mot ne correspond.\n",
        "2. Utilisez la méthode filte"
      ],
      "metadata": {
        "id": "qZn1Yx4o-C5Y"
      }
    },
    {
      "cell_type": "code",
      "source": [
        "a = 0\n",
        "while True: # Boucle infinie\n",
        " if a > 10:\n",
        "   print(\"Stop loop\")\n",
        "   break\n",
        " print(\"Value of a =\", a)\n",
        " a = a + 1\n",
        "\n",
        "a, b, c = 1, 1, 1\n",
        "print(b)\n",
        "while c < 15:\n",
        " a, b, c = b, a + b, c + 1\n",
        " print(b)\n",
        "\n",
        "n = 0\n",
        "while n < 10:\n",
        " print(\"Top\", end='\\n')\n",
        " n = n + 1\n",
        "\n"
      ],
      "metadata": {
        "id": "B8yuvBCJ9is9",
        "outputId": "0cbc0e3e-297c-4b61-fb15-bb2ac0705c35",
        "colab": {
          "base_uri": "https://localhost:8080/"
        }
      },
      "execution_count": 4,
      "outputs": [
        {
          "output_type": "stream",
          "name": "stdout",
          "text": [
            "Value of a = 0\n",
            "Value of a = 1\n",
            "Value of a = 2\n",
            "Value of a = 3\n",
            "Value of a = 4\n",
            "Value of a = 5\n",
            "Value of a = 6\n",
            "Value of a = 7\n",
            "Value of a = 8\n",
            "Value of a = 9\n",
            "Value of a = 10\n",
            "Stop loop\n"
          ]
        }
      ]
    },
    {
      "cell_type": "markdown",
      "source": [
        "Écrivez un programme qui décompose un nombre de secondes en nombre d'années, mois, jours, minutes\n",
        "et secondes (vous aurez besoin des opérateurs % , // )"
      ],
      "metadata": {
        "id": "bIEA_54Lg5M_"
      }
    },
    {
      "cell_type": "code",
      "source": [
        "timestamp = 123456899 # Mon nombre de secondes\n",
        "seconds_by_day = 3600 * 24\n",
        "seconds_by_year = seconds_by_day * 365 # Supposons que toutes les années aient 365 jours\n",
        "seconds_by_month = seconds_by_day * 30 # Supposons que tous les mois aient 30 jours\n",
        "\n",
        "years = timestamp // seconds_by_year\n",
        "seconds = timestamp % seconds_by_year\n",
        "\n",
        "months = seconds // seconds_by_month\n",
        "seconds = seconds % seconds_by_month\n",
        "\n",
        "days = seconds // seconds_by_day\n",
        "seconds = seconds % seconds_by_day\n",
        "\n",
        "hours = seconds // 3600\n",
        "seconds = seconds % 3600\n",
        "\n",
        "minutes = seconds // 60\n",
        "seconds = seconds % 60\n",
        "\n",
        "#print(\"Le nombre de secondes à convertir :\", timestamp)\n",
        "print(\"Ceci correspond à\", years, \"années\", end = ' ')\n",
        "print(months, \"mois\", end = ' ')\n",
        "print(days, \"jours\", end = ' ')\n",
        "print(hours, \"heures\", end = ' ')\n",
        "print(minutes, \"minutes\", end = ' ')\n",
        "print(seconds, \"secondes\", end = ' ')"
      ],
      "metadata": {
        "id": "UL_cH2TMg78Z",
        "outputId": "42428323-780d-4032-d662-14f7622ed027",
        "colab": {
          "base_uri": "https://localhost:8080/"
        }
      },
      "execution_count": 10,
      "outputs": [
        {
          "output_type": "stream",
          "name": "stdout",
          "text": [
            "Ceci correspond à 3 années 11 mois 3 jours 21 heures 34 minutes 59 secondes "
          ]
        }
      ]
    },
    {
      "cell_type": "markdown",
      "source": [
        "À l'aide du module turtle créez une fonction qui prend en paramètre la taille et la couleur du carré"
      ],
      "metadata": {
        "id": "wnQ9whXGibW2"
      }
    },
    {
      "cell_type": "code",
      "source": [
        "! pip install turtle"
      ],
      "metadata": {
        "id": "h-nFDNKyivkM",
        "outputId": "318f35a6-6e51-4a15-cf14-fd7390c648de",
        "colab": {
          "base_uri": "https://localhost:8080/"
        }
      },
      "execution_count": 11,
      "outputs": [
        {
          "output_type": "stream",
          "name": "stdout",
          "text": [
            "Requirement already satisfied: turtle in /usr/local/lib/python3.7/dist-packages (0.0.1)\n",
            "Requirement already satisfied: PyYAML>=3.08 in /usr/local/lib/python3.7/dist-packages (from turtle) (3.13)\n"
          ]
        }
      ]
    },
    {
      "cell_type": "code",
      "source": [
        "from turtle import *\n",
        "\n",
        "def carre(size, col):\n",
        "    turtle.color(col)\n",
        "    index  = 0\n",
        "    while index < 4:\n",
        "        turtle.forward(size)\n",
        "        turtle.right(90)\n",
        "        index = index + 1\n",
        "\n",
        "carre(50, \"red\")"
      ],
      "metadata": {
        "id": "-nzzRjjliZ8m"
      },
      "execution_count": null,
      "outputs": []
    },
    {
      "cell_type": "code",
      "source": [
        "# Reprenez l'exercice précédent et ajoutez une fonction afin de dessiner un triangle équilatéral.\n",
        "\n",
        "# %%\n",
        "from turtle import *\n",
        "\n",
        "def triangle(size, col):\n",
        "    color(col)\n",
        "    index  = 0\n",
        "    while index < 3:\n",
        "        forward(size)\n",
        "        right(180 - 180/3)\n",
        "        index = index + 1\n",
        "\n",
        "triangle(50, \"red\")\n"
      ],
      "metadata": {
        "id": "f_Rct7wbjgEG"
      },
      "execution_count": null,
      "outputs": []
    },
    {
      "cell_type": "code",
      "source": [
        "# À l'aide des deux fonctions précédentes, demandez à l'utilisateur ce qu'il veut tracer et tracez-le.\n",
        "\n",
        "# %%\n",
        "from turtle import *\n",
        "\n",
        "def carre(size, col):\n",
        "    color(col)\n",
        "    index  = 0\n",
        "    while index < 4:\n",
        "        forward(size)\n",
        "        right(90)\n",
        "        index = index + 1\n",
        "\n",
        "def triangle(size, col):\n",
        "    color(col)\n",
        "    index  = 0\n",
        "    while index < 3:\n",
        "        forward(size)\n",
        "        right(180 - 180/3)\n",
        "        index = index + 1\n",
        "\n",
        "answer = input(\"Que voulez-vous tracer ? : \")\n",
        "size = int(input(\"Quelle taille ? : \"))\n",
        "c = input(\"Quelle couleur ? : \")\n",
        "if answer.lower() == \"carre\":\n",
        "  carre(size, c)\n",
        "elif answer.lower() == \"triangle\":\n",
        "  triangle(size, c)\n",
        "else:\n",
        "  print(\"Mauvaise valeur ! Entrez carre ou triangle.\")"
      ],
      "metadata": {
        "id": "O1ZX4_WIjzZf"
      },
      "execution_count": null,
      "outputs": []
    },
    {
      "cell_type": "code",
      "source": [
        "def pyramide(n):\n",
        "  for i in range(n):\n",
        "    spaces = \" \" * (n-i-1)\n",
        "    stars = \"*\" * (i*2+1)\n",
        "    print(spaces + stars)\n",
        "pyramide(10)"
      ],
      "metadata": {
        "id": "p6fCK_Vsj3fJ",
        "outputId": "03295519-ed03-485b-dec2-99e01410f998",
        "colab": {
          "base_uri": "https://localhost:8080/"
        }
      },
      "execution_count": 17,
      "outputs": [
        {
          "output_type": "stream",
          "name": "stdout",
          "text": [
            "         *\n",
            "        ***\n",
            "       *****\n",
            "      *******\n",
            "     *********\n",
            "    ***********\n",
            "   *************\n",
            "  ***************\n",
            " *****************\n",
            "*******************\n"
          ]
        }
      ]
    },
    {
      "cell_type": "code",
      "source": [
        "# Un palindrome est un mot qui s’écrit de la même manière après l’inversion des lettres.\n",
        "# \n",
        "# Par exemple, `kayak` est un palindrome.\n",
        "# \n",
        "# Écrivez une fonction qui vérifie si la chaîne passée en paramètre est un palindrome.\n",
        "\n",
        "# %%\n",
        "def is_palindrome(word):\n",
        "  reversed_word = list(word)\n",
        "  reversed_word.reverse()\n",
        "  return reversed_word == list(word)\n",
        "\n",
        "print(is_palindrome(\"ABBA\"))\n",
        "print(is_palindrome(\"coucou\"))\n"
      ],
      "metadata": {
        "id": "1H7oaFaOj4xr",
        "outputId": "67147961-12c3-44e0-a792-52c8b6ee5f1d",
        "colab": {
          "base_uri": "https://localhost:8080/"
        }
      },
      "execution_count": 18,
      "outputs": [
        {
          "output_type": "stream",
          "name": "stdout",
          "text": [
            "True\n",
            "False\n"
          ]
        }
      ]
    },
    {
      "cell_type": "code",
      "source": [
        "# 1. Écrivez un script qui comporte une fonction qui calcule et retourne l'aire d'un cercle à partir de son rayon. `pi x r^2`\n",
        "# 2. Affichez le résultat avec deux chiffres après la virgule.\n",
        "\n",
        "# %%\n",
        "from math import pi\n",
        "\n",
        "def aire(r):\n",
        "    \"Calcule la surface d'un cercle\"\n",
        "    return pi * r ** 2\n",
        "print(f\"L'aire du cercle est : {aire(2.5):.2f}\")"
      ],
      "metadata": {
        "id": "MWO75JvDkSKn",
        "outputId": "7da90fd0-2f00-40af-9bd2-b970835f91a6",
        "colab": {
          "base_uri": "https://localhost:8080/"
        }
      },
      "execution_count": 20,
      "outputs": [
        {
          "output_type": "stream",
          "name": "stdout",
          "text": [
            "L'aire du cercle est : 19.63\n"
          ]
        }
      ]
    },
    {
      "cell_type": "code",
      "source": [
        "from os import chdir, listdir\n",
        "def copyfile(source, destination):\n",
        "  'copy the content of a file'\n",
        "  fs = open(source, 'r') #read\n",
        "  fd = open(destination, 'w') #write\n",
        "  while True:\n",
        "    txt = fs.read(10)\n",
        "    if txt == '':\n",
        "      break\n",
        "    fd.write(txt)\n",
        "  fs.close()\n",
        "  fs.close()\n",
        "\n",
        "! touch file1, file2\n",
        "listdir()\n",
        "with open('file1', 'w') as f:\n",
        "  f.write('blablablabla')\n",
        "! cat file1\n",
        "\n",
        "copyfile('file1', 'file2')\n",
        "! cat file2"
      ],
      "metadata": {
        "id": "w1USoq1DkaRL",
        "outputId": "4b6a706d-0c41-4922-a581-56c6685f249b",
        "colab": {
          "base_uri": "https://localhost:8080/"
        }
      },
      "execution_count": 26,
      "outputs": [
        {
          "output_type": "stream",
          "name": "stdout",
          "text": [
            "blablablablablablablabla"
          ]
        }
      ]
    },
    {
      "cell_type": "code",
      "source": [
        ""
      ],
      "metadata": {
        "id": "TniKHHeJlQcG"
      },
      "execution_count": null,
      "outputs": []
    }
  ]
}